{
 "cells": [
  {
   "cell_type": "markdown",
   "id": "eight-material",
   "metadata": {},
   "source": [
    "# Creating a dataloader and pre-processing our data\n",
    "\n",
    "## 0. Before we start\n",
    "\n",
    "This notebook is used to demonstrate how to create a dataloader on a **mock** dataset, which resembles the one, which will be used for the small project in the SUTD 50.039 Deep Learning class (Y2021).\n",
    "\n",
    "This notebook intends to demonstrate a way to create dataloaders from scratch, i.e. just a folder containing several images, so that it can later be fed into our PyTorch model.\n",
    "\n",
    "It consists of four parts:\n",
    "1. Getting familiar with the demo dataset and the images it contains.\n",
    "2. Creating a dataset object in general, and later, specific ones for training, testing and validation datasets.7\n",
    "3. Using torch to transform said dataset into a dataloader,\n",
    "4. and later use the said DataLoader in the training of a simple PyTorch model.\n",
    "\n",
    "It relies on the following libraries:\n",
    "- Matplotlib for displaying images in matplotlib plots,\n",
    "- Numpy for numerical operations on tensors/arrays,\n",
    "- Pillow (PIL) for opening images,\n",
    "- and torch/torchvision for typical operations on tensors, datasets and dataloaders."
   ]
  },
  {
   "cell_type": "code",
   "execution_count": 1,
   "id": "detected-background",
   "metadata": {},
   "outputs": [],
   "source": [
    "import collections\n",
    "import glob\n",
    "import random\n",
    "\n",
    "from PIL import Image\n",
    "import numpy as np\n",
    "import matplotlib.pyplot as plt\n",
    "\n",
    "import torch\n",
    "from torch.utils.data import Dataset, DataLoader\n",
    "import torch.nn as nn\n",
    "import torch.optim as optim\n",
    "import torch.nn.functional as F\n",
    "from torchvision import transforms\n",
    "\n",
    "MAIN = __name__ == \"__main__\""
   ]
  },
  {
   "cell_type": "markdown",
   "id": "advanced-cartoon",
   "metadata": {},
   "source": [
    "## 1. Getting familiar with the dataset\n",
    "\n",
    "The images stored in the **./dataset_demo** folder and its subfolder consists of 150 by 150 pixels greyscale images, representing X-Ray pictures of lungs. "
   ]
  },
  {
   "cell_type": "code",
   "execution_count": 2,
   "id": "pointed-module",
   "metadata": {},
   "outputs": [
    {
     "name": "stdout",
     "output_type": "stream",
     "text": [
      "\u001b[01;34mdataset\u001b[00m\r\n",
      "├── \u001b[01;34mtest\u001b[00m\r\n",
      "│   ├── \u001b[01;34minfected\u001b[00m\r\n",
      "│   │   ├── \u001b[01;34mcovid\u001b[00m\r\n",
      "│   │   └── \u001b[01;34mnon-covid\u001b[00m\r\n",
      "│   └── \u001b[01;34mnormal\u001b[00m\r\n",
      "├── \u001b[01;34mtrain\u001b[00m\r\n",
      "│   ├── \u001b[01;34minfected\u001b[00m\r\n",
      "│   │   ├── \u001b[01;34mcovid\u001b[00m\r\n",
      "│   │   └── \u001b[01;34mnon-covid\u001b[00m\r\n",
      "│   └── \u001b[01;34mnormal\u001b[00m\r\n",
      "└── \u001b[01;34mval\u001b[00m\r\n",
      "    ├── \u001b[01;34minfected\u001b[00m\r\n",
      "    │   ├── \u001b[01;34mcovid\u001b[00m\r\n",
      "    │   └── \u001b[01;34mnon-covid\u001b[00m\r\n",
      "    └── \u001b[01;34mnormal\u001b[00m\r\n",
      "\r\n",
      "15 directories\r\n"
     ]
    }
   ],
   "source": [
    "if MAIN:\n",
    "    get_ipython().system('tree dataset -d')"
   ]
  },
  {
   "cell_type": "code",
   "execution_count": 3,
   "id": "chief-anthropology",
   "metadata": {},
   "outputs": [],
   "source": [
    "dataset_folder = \"dataset\""
   ]
  },
  {
   "cell_type": "code",
   "execution_count": 4,
   "id": "subtle-running",
   "metadata": {},
   "outputs": [],
   "source": [
    "data_split_paths = {\n",
    "    \"train\": \"./{}/train/\".format(dataset_folder),\n",
    "    \"val\": \"./{}/val/\".format(dataset_folder),\n",
    "    \"test\": \"./{}/test/\".format(dataset_folder),\n",
    "}"
   ]
  },
  {
   "cell_type": "code",
   "execution_count": 5,
   "id": "growing-secretary",
   "metadata": {},
   "outputs": [],
   "source": [
    "class_paths = {\n",
    "    \"normal\": \"/normal/\",\n",
    "    \"non-covid\": \"/infected/non-covid/\",\n",
    "    \"covid\": \"/infected/covid/\"\n",
    "}"
   ]
  },
  {
   "cell_type": "code",
   "execution_count": 6,
   "id": "consecutive-harbor",
   "metadata": {},
   "outputs": [],
   "source": [
    "classification_types = {\n",
    "    \"normal/infected\": [['normal'], ['non-covid', 'covid']],\n",
    "    \"covid/non-covid\": [['covid'], ['non-covid']],\n",
    "    \"normal/non-covid/covid\": [['normal'], ['non-covid'], ['covid']]\n",
    "}"
   ]
  },
  {
   "cell_type": "code",
   "execution_count": 7,
   "id": "prime-enemy",
   "metadata": {},
   "outputs": [],
   "source": [
    "class Lung_Dataset(Dataset):\n",
    "    \n",
    "    def __init__(self, data_split, classification_type):\n",
    "        \"\"\"\n",
    "        Constructor for generic Dataset class - simply assembles\n",
    "        the important parameters in attributes.\n",
    "        \"\"\"\n",
    "        \n",
    "        if data_split in data_split_paths:\n",
    "            data_split_path = data_split_paths[data_split]\n",
    "        else:\n",
    "            print(\"data_split should be either of {}\".format(data_split_paths.keys()))\n",
    "            raise ValueError\n",
    "        \n",
    "        if classification_type in classification_types:\n",
    "            classes = classification_types[classification_type]\n",
    "        else:\n",
    "            print(\"classification_type should be either of {}\".format(classification_types.keys()))\n",
    "            raise ValueError\n",
    "        \n",
    "        self.filepaths_and_labels = []\n",
    "        for label,class_ in enumerate(classes):\n",
    "            for subclass in class_:\n",
    "                filepath_pattern = data_split_path + class_paths[subclass] + \"*.jpg\"\n",
    "                for filepath in glob.glob(filepath_pattern):\n",
    "                    self.filepaths_and_labels.append((filepath, label))    \n",
    "    \n",
    "        self.data_split = data_split\n",
    "        self.classification_type = classification_type\n",
    "        self.classes = classes\n",
    "\n",
    "    \n",
    "    def __str__(self):\n",
    "        \"\"\"\n",
    "        __str__ special method, usage print(object)\n",
    "        Print type and description\n",
    "        \"\"\"\n",
    "        c = collections.Counter(label for filepath,label in self.filepaths_and_labels)\n",
    "        class_distbn = [c[index] for index in range(len(self.classes))]\n",
    "        \n",
    "        msg = \"\"\n",
    "        msg += \"Type of object: {}\\n\".format(type(self))\n",
    "        msg += \"Data Split: {}\\n\".format(self.data_split)\n",
    "        msg += \"Classification Type: {}\\n\".format(self.classification_type)\n",
    "        msg += \"Available Classes: {}\\n\".format(self.classes)\n",
    "        msg += \"Class Distribution: {}\\n\".format(class_distbn)\n",
    "        msg += \"Total Dataset Size: {}\".format(len(self))\n",
    "        return msg\n",
    "        \n",
    "    \n",
    "    def __len__(self):\n",
    "        \"\"\"\n",
    "        __len__ special method, usage len(object)\n",
    "        Returns the number of images in dataset\n",
    "        \"\"\"\n",
    "        return len(self.filepaths_and_labels)\n",
    "\n",
    "    \n",
    "    def __getitem__(self, index):\n",
    "        \"\"\"\n",
    "        __getitem__ special method, usage: object[index]\n",
    "        Returns the image of torch.Size([1, 150, 150]) and its integer label\n",
    "        \"\"\"\n",
    "        \n",
    "        filepath, label = self.filepaths_and_labels[index]\n",
    "        \n",
    "        with open(filepath, 'rb') as f:\n",
    "            # Convert to Numpy array and normalize pixel values by dividing by 255.\n",
    "            im = np.asarray(Image.open(f))/255\n",
    "        \n",
    "        im = transforms.functional.to_tensor(np.array(im)).float()\n",
    "        \n",
    "        # shiying to include various random transforms here\n",
    "        # take Tensor of torch.Size([1, 150, 150]) and return the same\n",
    "\n",
    "        return im, label\n",
    "    \n",
    "    def show_img(self, index):\n",
    "        im, label = self[index]\n",
    "        plt.imshow(im[0,:,:])\n",
    "        plt.title(\"Label {} {}\".format(label, self.classes[label]))\n",
    "        plt.show()\n",
    "        plt.close()"
   ]
  },
  {
   "cell_type": "code",
   "execution_count": 8,
   "id": "moved-shanghai",
   "metadata": {},
   "outputs": [
    {
     "name": "stdout",
     "output_type": "stream",
     "text": [
      "Type of object: <class '__main__.Lung_Dataset'>\n",
      "Data Split: train\n",
      "Classification Type: normal/infected\n",
      "Available Classes: [['normal'], ['non-covid', 'covid']]\n",
      "Class Distribution: [1341, 3875]\n",
      "Total Dataset Size: 5216\n"
     ]
    },
    {
     "data": {
      "image/png": "[encoded data removed]",
      "text/plain": [
       "<Figure size 432x288 with 1 Axes>"
      ]
     },
     "metadata": {
      "needs_background": "light"
     },
     "output_type": "display_data"
    }
   ],
   "source": [
    "if MAIN:\n",
    "    ld_train = Lung_Dataset(\"train\", \"normal/infected\")\n",
    "    print(ld_train)\n",
    "    ld_train.show_img(1)"
   ]
  },
  {
   "cell_type": "markdown",
   "id": "revised-selling",
   "metadata": {},
   "source": [
    "## 3. Creating a Dataloader object\n",
    "\n",
    "The final step is to create Dataloaders, based on our previous Dataset objects. These Dataloaders will later be used for training, testing and evaluating our models in PyTorch.\n",
    "\n",
    "The dataloaders can be simply created by using the DataLoader object from the torch.utils.data library, and by simply passing it our Dataset object. Additional parameters such as the batch_size (set to 4 for demo here) can be specified. Another interesting parameter is the shuffle = True one, which will randomly shuffle the order in which the images are selected in the Dataset.\n",
    "\n",
    "Additional parameters for the DataLoader can be specified (see https://pytorch.org/docs/stable/data.html#torch.utils.data.DataLoader for details), but it will not be necessary for this small project."
   ]
  },
  {
   "cell_type": "code",
   "execution_count": 9,
   "id": "corrected-economy",
   "metadata": {},
   "outputs": [],
   "source": [
    "# Batch size value to be used (to be decided freely, but set to 4 for demo)\n",
    "bs_val = 4"
   ]
  },
  {
   "cell_type": "code",
   "execution_count": 10,
   "id": "derived-adoption",
   "metadata": {},
   "outputs": [
    {
     "name": "stdout",
     "output_type": "stream",
     "text": [
      "<torch.utils.data.dataloader.DataLoader object at 0x7fbcd9c54cd0>\n"
     ]
    }
   ],
   "source": [
    "# Dataloader from dataset (train)\n",
    "if MAIN:\n",
    "    train_loader = DataLoader(ld_train, batch_size = bs_val, shuffle = True)\n",
    "    print(train_loader)"
   ]
  },
  {
   "cell_type": "code",
   "execution_count": 11,
   "id": "resistant-yemen",
   "metadata": {},
   "outputs": [
    {
     "name": "stdout",
     "output_type": "stream",
     "text": [
      "<torch.utils.data.dataloader.DataLoader object at 0x7fbcd9b7a310>\n",
      "<torch.utils.data.dataloader.DataLoader object at 0x7fbcd5331d50>\n"
     ]
    }
   ],
   "source": [
    "# Dataloader from dataset (test and val)\n",
    "if MAIN: \n",
    "    ld_test = Lung_Dataset(\"test\", \"normal/infected\")\n",
    "    test_loader = DataLoader(ld_test, batch_size = bs_val, shuffle = True)\n",
    "    print(test_loader)\n",
    "\n",
    "if MAIN:\n",
    "    ld_val = Lung_Dataset(\"val\", \"normal/infected\")\n",
    "    val_loader = DataLoader(ld_val, batch_size = bs_val, shuffle = True)\n",
    "    print(val_loader)"
   ]
  },
  {
   "cell_type": "markdown",
   "id": "understood-polish",
   "metadata": {},
   "source": [
    "During the training, you will call for mini-batches using a for loop of some sort, probably similar to the one below.\n",
    "\n",
    "Notice how each iteration of the for loop below produces a torch tensor of size [1, bs_val, 150, 150] in v[0] containing the bs_val = 4 images in the current mini-batch. You also have, in v[1], a torch tensor of size [bs_val, 2], containing the one hot vectors for each of the bs_val = 4 images.\n",
    "\n",
    "We voluntarily interrupt it after one iteration of the mini-batch using an assert False."
   ]
  },
  {
   "cell_type": "code",
   "execution_count": 12,
   "id": "surprising-charles",
   "metadata": {},
   "outputs": [
    {
     "name": "stdout",
     "output_type": "stream",
     "text": [
      "-----\n",
      "0\n",
      "tensor([[[[0.2980, 0.3020, 0.3137,  ..., 0.3098, 0.3412, 0.3216],\n",
      "          [0.2980, 0.3020, 0.3137,  ..., 0.5216, 0.5373, 0.4549],\n",
      "          [0.2941, 0.2980, 0.3059,  ..., 0.4980, 0.6510, 0.4941],\n",
      "          ...,\n",
      "          [0.0078, 0.0039, 0.0000,  ..., 0.4902, 0.4902, 0.2000],\n",
      "          [0.0078, 0.0039, 0.0000,  ..., 0.1451, 0.1765, 0.0000],\n",
      "          [0.0039, 0.0039, 0.0000,  ..., 0.0118, 0.0000, 0.0353]]],\n",
      "\n",
      "\n",
      "        [[[0.1765, 0.2118, 0.2353,  ..., 0.1137, 0.0863, 0.0667],\n",
      "          [0.1882, 0.2157, 0.2353,  ..., 0.1137, 0.0824, 0.0549],\n",
      "          [0.2039, 0.2196, 0.2353,  ..., 0.1216, 0.0980, 0.0784],\n",
      "          ...,\n",
      "          [0.0627, 0.0431, 0.1569,  ..., 0.0941, 0.0941, 0.0941],\n",
      "          [0.0627, 0.0471, 0.1608,  ..., 0.0941, 0.0941, 0.0941],\n",
      "          [0.0627, 0.0471, 0.1647,  ..., 0.0941, 0.0941, 0.0941]]],\n",
      "\n",
      "\n",
      "        [[[0.1451, 0.1882, 0.2275,  ..., 0.0549, 0.0510, 0.0510],\n",
      "          [0.1961, 0.2157, 0.2510,  ..., 0.0510, 0.0510, 0.0471],\n",
      "          [0.2549, 0.2431, 0.2627,  ..., 0.0627, 0.0627, 0.0627],\n",
      "          ...,\n",
      "          [0.0314, 0.0314, 0.0353,  ..., 0.0627, 0.1137, 0.1647],\n",
      "          [0.0314, 0.0314, 0.0353,  ..., 0.0627, 0.1098, 0.1608],\n",
      "          [0.0314, 0.0314, 0.0353,  ..., 0.0588, 0.1059, 0.1569]]],\n",
      "\n",
      "\n",
      "        [[[0.0667, 0.0824, 0.0314,  ..., 0.2118, 0.1922, 0.1961],\n",
      "          [0.0275, 0.0706, 0.0275,  ..., 0.1961, 0.1725, 0.1843],\n",
      "          [0.0745, 0.0980, 0.0471,  ..., 0.2392, 0.2157, 0.2235],\n",
      "          ...,\n",
      "          [0.0157, 0.0000, 0.0000,  ..., 0.0000, 0.0000, 0.0000],\n",
      "          [0.0314, 0.0039, 0.0000,  ..., 0.0000, 0.0000, 0.0039],\n",
      "          [0.0471, 0.0078, 0.0000,  ..., 0.0000, 0.0078, 0.0392]]]])\n",
      "tensor([1, 1, 1, 1])\n"
     ]
    }
   ],
   "source": [
    "# Typical mini-batch for loop on dataloader (train)\n",
    "if MAIN: \n",
    "  for k, v in enumerate(train_loader):\n",
    "    print(\"-----\")\n",
    "    print(k)\n",
    "    print(v[0])\n",
    "    print(v[1])\n",
    "    # Forced stop\n",
    "    break\n",
    "    #assert False, \"Forced stop after one iteration of the for loop\""
   ]
  },
  {
   "cell_type": "markdown",
   "id": "possible-harbor",
   "metadata": {},
   "source": [
    "## 4. Using our dataloader for training a model\n",
    "\n",
    "We can then use our custom dataloader for training a model.\n",
    "If we decide to create a model as a subclass of the nn.Module of PyTorch, and later write a train function, as in this Notebook shown in class (https://colab.research.google.com/drive/1zhDmMfSFBy3clH-NRp9nXruQXnckZ3X1#scrollTo=KZd049wKyFT8), then our train_loader object defined in Section 3., can be directly fed to our train function in place of the train_loader.\n",
    "\n",
    "We could for instance, define a simple (probably too simple!) model below."
   ]
  },
  {
   "cell_type": "code",
   "execution_count": 13,
   "id": "racial-homework",
   "metadata": {},
   "outputs": [],
   "source": [
    "# A simple mode\n",
    "class Net(nn.Module):\n",
    "    def __init__(self):\n",
    "        super(Net, self).__init__()\n",
    "        # Conv2D: 1 input channel, 8 output channels, 3 by 3 kernel, stride of 1.\n",
    "        self.conv1 = nn.Conv2d(1, 4, 3, 1)\n",
    "        self.fc1 = nn.Linear(87616, 2)\n",
    "\n",
    "    def forward(self, x):\n",
    "        x = self.conv1(x)\n",
    "        x = torch.flatten(x, 1)\n",
    "        x = self.fc1(x)\n",
    "        output = F.log_softmax(x, dim = 1)\n",
    "        return output"
   ]
  },
  {
   "cell_type": "code",
   "execution_count": 14,
   "id": "chemical-astronomy",
   "metadata": {},
   "outputs": [],
   "source": [
    "# Create model\n",
    "if MAIN:\n",
    "    model = Net()"
   ]
  },
  {
   "cell_type": "markdown",
   "id": "worse-editing",
   "metadata": {},
   "source": [
    "Later on, we will probably have to write a train function, which will implement a mini-batch loop, which resembles the one below. It will simply iterate on the DataLoader we have defined earlier."
   ]
  },
  {
   "cell_type": "code",
   "execution_count": 15,
   "id": "taken-living",
   "metadata": {},
   "outputs": [
    {
     "name": "stdout",
     "output_type": "stream",
     "text": [
      "tensor([[-0.7813, -0.6122],\n",
      "        [-0.8797, -0.5360],\n",
      "        [-0.8091, -0.5893],\n",
      "        [-0.8234, -0.5779]], grad_fn=<LogSoftmaxBackward>)\n",
      "tensor([1, 1, 0, 1])\n"
     ]
    }
   ],
   "source": [
    "# Try model on one mini-batch\n",
    "if MAIN: \n",
    "  for batch_idx, (images_data, target_labels) in enumerate(train_loader):\n",
    "    predicted_labels = model(images_data)\n",
    "    print(predicted_labels)\n",
    "    print(target_labels)\n",
    "    # Forced stop\n",
    "    break\n",
    "    #assert False, \"Forced stop after one iteration of the mini-batch for loop\""
   ]
  },
  {
   "cell_type": "markdown",
   "id": "subject-pixel",
   "metadata": {},
   "source": [
    "## 5. What is next?\n",
    "\n",
    "You will have to download the full pictures repository, as specified in the Small Project instruction PDF. It will contain a much larger dataset, for which you will have to write a DataLoader. You may reuse parts of the codes presented in this notebook to come up with your custom DataLoader, if necessary.\n",
    "\n",
    "Later on, you will have to train a model for classification, as suggested in the Small Project PDF!\n",
    "Good luck!"
   ]
  },
  {
   "cell_type": "code",
   "execution_count": 16,
   "id": "returning-chapel",
   "metadata": {},
   "outputs": [
    {
     "name": "stdout",
     "output_type": "stream",
     "text": [
      "[NbConvertApp] WARNING | Config option `kernel_spec_manager_class` not recognized by `NbConvertApp`.\n",
      "[NbConvertApp] Converting notebook lung_dataset.ipynb to script\n",
      "[NbConvertApp] Writing 9924 bytes to lung_dataset.py\n"
     ]
    }
   ],
   "source": [
    "if MAIN:\n",
    "    get_ipython().system('jupyter nbconvert --to script lung_dataset.ipynb')"
   ]
  },
  {
   "cell_type": "code",
   "execution_count": null,
   "id": "burning-seattle",
   "metadata": {},
   "outputs": [],
   "source": []
  }
 ],
 "metadata": {
  "environment": {
   "name": "pytorch-gpu.1-7.m65",
   "type": "gcloud",
   "uri": "gcr.io/deeplearning-platform-release/pytorch-gpu.1-7:m65"
  },
  "kernelspec": {
   "display_name": "Python 3",
   "language": "python",
   "name": "python3"
  },
  "language_info": {
   "codemirror_mode": {
    "name": "ipython",
    "version": 3
   },
   "file_extension": ".py",
   "mimetype": "text/x-python",
   "name": "python",
   "nbconvert_exporter": "python",
   "pygments_lexer": "ipython3",
   "version": "3.7.9"
  }
 },
 "nbformat": 4,
 "nbformat_minor": 5
}
