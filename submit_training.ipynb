{
 "cells": [
  {
   "cell_type": "markdown",
   "id": "overall-justice",
   "metadata": {},
   "source": [
    "# Train Binary Classifiers"
   ]
  },
  {
   "cell_type": "code",
   "execution_count": 1,
   "id": "adolescent-capitol",
   "metadata": {},
   "outputs": [],
   "source": [
    "import torch\n",
    "import torchvision\n",
    "import torchvision.transforms as transforms\n",
    "import itertools\n",
    "import torch.nn as nn\n",
    "import torch.nn.functional as F\n",
    "import torch.optim as optim"
   ]
  },
  {
   "cell_type": "code",
   "execution_count": 2,
   "id": "distributed-profit",
   "metadata": {},
   "outputs": [],
   "source": [
    "from lung_dataset import Lung_Dataset\n",
    "from torch.utils.data import DataLoader\n",
    "from functions import train, Net, Net4, plot_learning_curve,save_metrics"
   ]
  },
  {
   "cell_type": "code",
   "execution_count": 3,
   "id": "removable-mitchell",
   "metadata": {},
   "outputs": [],
   "source": [
    "device = torch.device(\"cuda:0\" if torch.cuda.is_available() else \"cpu\")"
   ]
  },
  {
   "cell_type": "markdown",
   "id": "equivalent-oklahoma",
   "metadata": {},
   "source": [
    "## Normal vs Infected"
   ]
  },
  {
   "cell_type": "code",
   "execution_count": 5,
   "id": "vanilla-bloom",
   "metadata": {},
   "outputs": [],
   "source": [
    "bs_val = 20\n",
    "# from Train import train, load, plot_learning_curve\n",
    "batchsizes = [8, 16, 20]\n",
    "l_rates = [0.001, 0.005, 0.0001, 0.0005]\n",
    "p_dropout = [0.1, 0.25, 0.5, 0.75, 0.9]\n",
    "max_w_acc = 0\n",
    "best_model = \"None\"\n",
    "\n",
    "for bs_val, lrate, pdrop in itertools.product(batchsizes, l_rates, p_dropout):\n",
    "\n",
    "    ld_train = Lung_Dataset(\"train\", \"normal/infected\")\n",
    "    trainloader = DataLoader(ld_train, batch_size = bs_val, shuffle = True)\n",
    "\n",
    "    ld_test = Lung_Dataset(\"test\", \"normal/infected\")\n",
    "    testloader = DataLoader(ld_test, batch_size = bs_val, shuffle = True)\n",
    "\n",
    "    first_net = Net(num_classes=2, pd=pdrop)\n",
    "\n",
    "    optimizer = optim.Adam(first_net.parameters(), lr=lrate)\n",
    "    criterion = nn.CrossEntropyLoss()\n",
    "\n",
    "    print(\"Train batches {}, Test batches {}\".format(len(trainloader), len(testloader)))\n",
    "    num_epochs = 10\n",
    "    model = first_net\n",
    "    save_path = './actual_saved_models'\n",
    "    img_path = './plots'\n",
    "    results_path = './results'\n",
    "    model_name = str(bs_val)+'_'+str(lrate)+'_'+str(pdrop)+'_ni'\n",
    "    binary = True\n",
    "    verbose = False\n",
    "\n",
    "    loss_list, acc_list, test_loss_list, test_acc_list, path_list, num_param = train(num_epochs, model, trainloader, testloader, criterion, optimizer, save_path, model_name, binary, verbose)\n",
    "    \n",
    "    if max(test_acc_list)>max_w_acc:\n",
    "        max_w_acc=max(test_acc_list)\n",
    "        best_model = model_name\n",
    "    \n",
    "    plot_learning_curve(loss_list, acc_list, test_loss_list, test_acc_list, img_path, model_name)\n",
    "    save_metrics(results_path, model_name, loss_list, acc_list, test_loss_list, test_acc_list, path_list, num_param)"
   ]
  },
  {
   "cell_type": "markdown",
   "id": "ceramic-cache",
   "metadata": {},
   "source": [
    "## Infected vs Covid"
   ]
  },
  {
   "cell_type": "code",
   "execution_count": 20,
   "id": "greek-newcastle",
   "metadata": {},
   "outputs": [],
   "source": [
    "# from Train import train, load, plot_learning_curve\n",
    "batchsizes = [8, 16, 20]\n",
    "l_rates = [0.001, 0.005, 0.0001, 0.0005]\n",
    "p_dropout = [0.1, 0.25, 0.5, 0.75, 0.9]\n",
    "max_w_acc = 0\n",
    "best_model = \"None\"\n",
    "\n",
    "for bs_val, lrate, pdrop in itertools.product(batchsizes, l_rates, p_dropout):\n",
    "\n",
    "    second_net = Net4(num_classes=2,pd=pdrop)\n",
    "\n",
    "    ld = Lung_Dataset(\"train\", \"covid/non-covid\")\n",
    "    trainloader = DataLoader(ld, batch_size = bs_val, shuffle = True)\n",
    "\n",
    "    ld = Lung_Dataset(\"test\", \"covid/non-covid\")\n",
    "    testloader = DataLoader(ld, batch_size = bs_val, shuffle = True)\n",
    "\n",
    "\n",
    "    optimizer = optim.Adam(second_net.parameters(), lr=lrate)\n",
    "\n",
    "    print(\"Train batches {}, Test batches {}\".format(len(trainloader), len(testloader)))\n",
    "    num_epochs = 10\n",
    "    model = second_net\n",
    "    save_path = './actual_saved_models'\n",
    "    img_path = './plots'\n",
    "    results_path = './results'\n",
    "    model_name = str(bs_val)+'_'+str(lrate)+'_'+str(pdrop)+'_cnc'\n",
    "    binary = True\n",
    "    verbose = False\n",
    "    loss_list, acc_list, test_loss_list, test_acc_list, path_list, num_param = train(num_epochs, model, trainloader, testloader, criterion, optimizer, save_path, model_name, binary, verbose)\n",
    "    \n",
    "    if max(test_acc_list)>max_w_acc:\n",
    "        max_w_acc=max(test_acc_list)\n",
    "        best_model = model_name\n",
    "    \n",
    "    plot_learning_curve(loss_list, acc_list, test_loss_list, test_acc_list, img_path, model_name)\n",
    "    save_metrics(results_path, model_name, loss_list, acc_list, test_loss_list, test_acc_list, path_list, num_param)"
   ]
  },
  {
   "cell_type": "markdown",
   "id": "growing-things",
   "metadata": {},
   "source": [
    "## Two stage classification"
   ]
  },
  {
   "cell_type": "code",
   "execution_count": 14,
   "id": "attended-lease",
   "metadata": {},
   "outputs": [],
   "source": [
    "import collections\n",
    "\n",
    "def two_stage_testing(testloader, first_model, second_model):\n",
    "        first_model.eval()\n",
    "        second_model.eval()\n",
    "        first_model = first_model.to(device)\n",
    "        second_model = second_model.to(device)\n",
    "        \n",
    "        first_stage_labels = []\n",
    "        second_stage_labels = []\n",
    "        actual_labels = []\n",
    "        \n",
    "        for i, data in enumerate(testloader, 0):\n",
    "            inputs, labels = data\n",
    "            inputs = inputs.to(device)\n",
    "            labels = labels.to(device)\n",
    "\n",
    "            outputs = first_model(inputs)\n",
    "            _, predicted = torch.max(outputs, 1)\n",
    "            first_stage_labels.extend(predicted)\n",
    "\n",
    "            outputs = second_model(inputs)\n",
    "            _, predicted = torch.max(outputs, 1)\n",
    "            second_stage_labels.extend(predicted)\n",
    "            \n",
    "            actual_labels.extend(labels)\n",
    "            \n",
    "        \n",
    "        predicted_labels = [0 if not first_label else 2 if not second_label else 1 for\n",
    "                            first_label, second_label in zip(first_stage_labels, second_stage_labels)]\n",
    "\n",
    "        first_stage_labels = [x.item() for x in first_stage_labels]\n",
    "        second_stage_labels = [x.item() for x in second_stage_labels]\n",
    "        actual_labels = [x.item() for x in actual_labels]\n",
    "        print(first_stage_labels[:10])\n",
    "        print(second_stage_labels[:10])\n",
    "        print(predicted_labels[:10])\n",
    "        print(actual_labels[:10])\n",
    "        \n",
    "        print(collections.Counter(predicted_labels))\n",
    "        print(collections.Counter(actual_labels))\n",
    "        \n",
    "        accuracy = sum(actual == predicted for actual, predicted in zip(actual_labels, predicted_labels))/len(actual_labels)\n",
    "        print(\"accuracy {:.3f}\".format(accuracy))"
   ]
  },
  {
   "cell_type": "markdown",
   "id": "reported-nancy",
   "metadata": {},
   "source": [
    "run the testloader for two class classification"
   ]
  },
  {
   "cell_type": "code",
   "execution_count": 18,
   "id": "varying-yorkshire",
   "metadata": {},
   "outputs": [],
   "source": [
    "ld = Lung_Dataset(\"test\", \"normal/non-covid/covid\")\n",
    "testloader = DataLoader(ld, batch_size = bs_val, shuffle = True)\n",
    "\n",
    "two_stage_testing(testloader, first_net, second_net)"
   ]
  }
 ],
 "metadata": {
  "environment": {
   "name": "pytorch-gpu.1-7.m65",
   "type": "gcloud",
   "uri": "gcr.io/deeplearning-platform-release/pytorch-gpu.1-7:m65"
  },
  "kernelspec": {
   "display_name": "Python 3",
   "language": "python",
   "name": "python3"
  },
  "language_info": {
   "codemirror_mode": {
    "name": "ipython",
    "version": 3
   },
   "file_extension": ".py",
   "mimetype": "text/x-python",
   "name": "python",
   "nbconvert_exporter": "python",
   "pygments_lexer": "ipython3",
   "version": "3.7.10"
  }
 },
 "nbformat": 4,
 "nbformat_minor": 5
}
